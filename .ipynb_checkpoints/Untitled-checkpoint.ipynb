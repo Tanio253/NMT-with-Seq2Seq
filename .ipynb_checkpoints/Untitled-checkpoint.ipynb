{
 "cells": [
  {
   "cell_type": "code",
   "execution_count": 1,
   "id": "b42f1fd5-e09b-49f3-bd82-969399b6c74d",
   "metadata": {},
   "outputs": [
    {
     "name": "stdout",
     "output_type": "stream",
     "text": [
      "tensor([1, 2, 3, 4])\n"
     ]
    }
   ],
   "source": [
    "import torch\n",
    "arr = [1,2,3,4]\n",
    "arr1 = torch.tensor(arr)\n",
    "print(arr1)"
   ]
  },
  {
   "cell_type": "code",
   "execution_count": 18,
   "id": "bb8a25a5-50ae-487f-90e5-894fc3427658",
   "metadata": {},
   "outputs": [],
   "source": [
    "def pad_sents(sents, pad_token):\n",
    "    \"\"\" Pad list of sentences according to the longest sentence in the batch.\n",
    "        The paddings should be at the end of each sentence.\n",
    "    @param sents (list[list[str]]): list of sentences, where each sentence\n",
    "                                    is represented as a list of words\n",
    "    @param pad_token (str): padding token\n",
    "    @returns sents_padded (list[list[str]]): list of sentences where sentences shorter\n",
    "        than the max length sentence are padded out with the pad_token, such that\n",
    "        each sentences in the batch now has equal length.\n",
    "    \"\"\"\n",
    "    sents_padded = []\n",
    "    \n",
    "    ### YOUR CODE HERE (~6 Lines)\n",
    "    max_len = 0\n",
    "    # for sent in sents:\n",
    "    #     if max_len<len(sent): max_len = len(sent)\n",
    "    max_len = max([len(sent) for sent in sents])\n",
    "    for sent in sents:\n",
    "        temp_max_len = max_len\n",
    "        temp_sent_padded = sent[:] #deep copy\n",
    "        while temp_max_len >len(sent):\n",
    "            temp_sent_padded+= [pad_token]\n",
    "            temp_max_len-=1\n",
    "        sents_padded.append(temp_sent_padded)\n",
    "    ### END YOUR CODE\n",
    "\n",
    "    return sents_padded"
   ]
  },
  {
   "cell_type": "code",
   "execution_count": 21,
   "id": "32809b2b-743a-463a-9b56-b360c5b32223",
   "metadata": {},
   "outputs": [],
   "source": [
    "sents = [[1,2],[4,7,22,19],[21,26,33]]\n",
    "pad_token = 0"
   ]
  },
  {
   "cell_type": "code",
   "execution_count": 22,
   "id": "cc5ebc92-2960-4be3-96c0-652dc85e6305",
   "metadata": {},
   "outputs": [
    {
     "name": "stdout",
     "output_type": "stream",
     "text": [
      "[[1, 2, 0, 0], [4, 7, 22, 19], [21, 26, 33, 0]]\n"
     ]
    }
   ],
   "source": [
    "sents_padded = pad_sents(sents,pad_token)\n",
    "print(sents_padded)"
   ]
  },
  {
   "cell_type": "code",
   "execution_count": 24,
   "id": "96267fb2-9533-4ebc-8893-559b73188cb1",
   "metadata": {},
   "outputs": [
    {
     "name": "stdout",
     "output_type": "stream",
     "text": [
      "torch.Size([2])\n"
     ]
    }
   ],
   "source": [
    "arr = torch.tensor([[1,2],[1,4]])\n",
    "print(arr[0].size())"
   ]
  },
  {
   "cell_type": "code",
   "execution_count": 25,
   "id": "01cc176d-0299-4d07-8dfe-77ba82989570",
   "metadata": {},
   "outputs": [],
   "source": [
    "import torch.nn as nn"
   ]
  },
  {
   "cell_type": "code",
   "execution_count": 27,
   "id": "b0ab0181-4c8a-432d-962f-e9c11072220a",
   "metadata": {},
   "outputs": [
    {
     "name": "stdout",
     "output_type": "stream",
     "text": [
      "torch.Size([4, 5, 4])\n"
     ]
    }
   ],
   "source": [
    "cnn = nn.Conv1d(5,5,2,padding = 0)\n",
    "x = torch.rand(4,5,5)\n",
    "x = cnn(x)\n",
    "print(x.size())"
   ]
  },
  {
   "cell_type": "code",
   "execution_count": 29,
   "id": "e9c2a709-abef-44fa-a1d3-4f857f2dd211",
   "metadata": {},
   "outputs": [
    {
     "name": "stdout",
     "output_type": "stream",
     "text": [
      "torch.Size([20, 33, 50])\n"
     ]
    }
   ],
   "source": [
    "m = nn.Conv1d(16, 33, 3, padding = 1)\n",
    "input = torch.randn(20, 16, 50)\n",
    "output = m(input)\n",
    "print(output.size())"
   ]
  },
  {
   "cell_type": "code",
   "execution_count": 30,
   "id": "4512cec9-569e-4ec8-a602-959155c35798",
   "metadata": {},
   "outputs": [],
   "source": [
    "rnn = nn.LSTM(10, 20, 2)\n",
    "input = torch.randn(5, 3, 10)\n",
    "h0 = torch.randn(2, 3, 20)\n",
    "c0 = torch.randn(2, 3, 20)\n",
    "output, (hn, cn) = rnn(input, (h0, c0))"
   ]
  },
  {
   "cell_type": "code",
   "execution_count": null,
   "id": "091f13f6-c795-45e2-8138-4ddaa0bf5ad1",
   "metadata": {},
   "outputs": [],
   "source": [
    "print(output.size())\n",
    "print(hn.size(),cn.size())"
   ]
  }
 ],
 "metadata": {
  "kernelspec": {
   "display_name": "Python 3 (ipykernel)",
   "language": "python",
   "name": "python3"
  },
  "language_info": {
   "codemirror_mode": {
    "name": "ipython",
    "version": 3
   },
   "file_extension": ".py",
   "mimetype": "text/x-python",
   "name": "python",
   "nbconvert_exporter": "python",
   "pygments_lexer": "ipython3",
   "version": "3.8.10"
  }
 },
 "nbformat": 4,
 "nbformat_minor": 5
}
